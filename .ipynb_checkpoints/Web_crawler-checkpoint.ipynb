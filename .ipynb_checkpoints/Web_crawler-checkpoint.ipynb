{
 "cells": [
  {
   "cell_type": "code",
   "execution_count": 18,
   "metadata": {},
   "outputs": [],
   "source": [
    "from html.parser import HTMLParser  \n",
    "from urllib.request import urlopen  \n",
    "from urllib import parse\n",
    "\n",
    "# We are going to create a class called LinkParser that inherits some\n",
    "# methods from HTMLParser which is why it is passed into the definition\n",
    "class LinkParser(HTMLParser):\n",
    "    def handle_starttag(self, tag, attrs):\n",
    "        if tag == 'a':\n",
    "            for (key, value) in attrs:\n",
    "                if key == 'href':\n",
    "                    # it is for greation new url from base url and the new one \n",
    "                    newUrl = parse.urljoin(self.baseUrl, value)\n",
    "                    # and we need to collect all links \n",
    "                    self.links = self.links + [newUrl]\n",
    "\n",
    "    # This is a new function for getting our links\n",
    "    def getLinks(self, url):\n",
    "        self.links = []\n",
    "        # it is the base url\n",
    "        self.baseUrl = url\n",
    "        response = urlopen(url)\n",
    "        # Make sure that it is HTML \n",
    "        if response.getheader('Content-Type')=='text/html':\n",
    "            htmlBytes = response.read()\n",
    "            htmlString = htmlBytes.decode(\"utf-8\")\n",
    "            self.feed(htmlString)\n",
    "            return  self.links\n",
    "        else:\n",
    "            return []\n",
    "\n",
    "# taker start url and number of iterations \n",
    "def crawler(url, max_iter):\n",
    "    # it is our first one \n",
    "    pagesToVisit = [url]\n",
    "    # starting from 0\n",
    "    numberVisited = 0\n",
    "    \n",
    "    # we stop \n",
    "    # if there is no more links or we did max_iter iterations \n",
    "    while numberVisited < max_iter and pagesToVisit != []:\n",
    "        numberVisited += 1\n",
    "        url = pagesToVisit[0]\n",
    "        pagesToVisit = pagesToVisit[1:]\n",
    "        # we do try except thing to check availability of the web page\n",
    "        try:\n",
    "            print(numberVisited, \"Visiting:\", url)\n",
    "            parser = LinkParser()\n",
    "            links = parser.getLinks(url)\n",
    "            pagesToVisit = pagesToVisit + links\n",
    "            print(\" **Success!**\")\n",
    "            \n",
    "        except:\n",
    "            print(\" **Failed!**\")"
   ]
  },
  {
   "cell_type": "code",
   "execution_count": 19,
   "metadata": {},
   "outputs": [
    {
     "name": "stdout",
     "output_type": "stream",
     "text": [
      "1 Visiting: http://textblob.readthedocs.io/en/dev/api_reference.html#module-textblob.en.parsers\n",
      " **Success!**\n",
      "2 Visiting: http://textblob.readthedocs.io/en/dev/genindex.html\n",
      " **Success!**\n",
      "3 Visiting: http://textblob.readthedocs.io/en/dev/py-modindex.html\n",
      " **Success!**\n",
      "4 Visiting: http://textblob.readthedocs.io/en/dev/changelog.html\n",
      " **Success!**\n",
      "5 Visiting: http://textblob.readthedocs.io/en/dev/extensions.html\n",
      " **Success!**\n"
     ]
    }
   ],
   "source": [
    "crawler(\"http://textblob.readthedocs.io/en/dev/api_reference.html#module-textblob.en.parsers\", 5)"
   ]
  },
  {
   "cell_type": "code",
   "execution_count": null,
   "metadata": {},
   "outputs": [],
   "source": []
  }
 ],
 "metadata": {
  "kernelspec": {
   "display_name": "Python 3",
   "language": "python",
   "name": "python3"
  },
  "language_info": {
   "codemirror_mode": {
    "name": "ipython",
    "version": 3
   },
   "file_extension": ".py",
   "mimetype": "text/x-python",
   "name": "python",
   "nbconvert_exporter": "python",
   "pygments_lexer": "ipython3",
   "version": "3.6.4"
  }
 },
 "nbformat": 4,
 "nbformat_minor": 2
}
