{
 "cells": [
  {
   "cell_type": "markdown",
   "metadata": {
    "collapsed": true
   },
   "source": [
    "Jaccard  coefficient $$ J(A,B) = \\dfrac{A \\cap B}{B \\cup B} $$"
   ]
  },
  {
   "cell_type": "markdown",
   "metadata": {},
   "source": [
    "$h_{min}(S)$ - function, which calculates function h for each element of S and returns the minimum value"
   ]
  },
  {
   "cell_type": "markdown",
   "metadata": {},
   "source": [
    "If we will calculate $(h_i)_{min}(A)$ and $(h_i)_{min}(B)$ for $k$ hash functions, where $k = \\dfrac{1}{\\varepsilon^2}$, $\\varepsilon$ - required max error, we can gain the value approximately equal to J(A,B).  \n"
   ]
  },
  {
   "cell_type": "code",
   "execution_count": 54,
   "metadata": {},
   "outputs": [
    {
     "name": "stdout",
     "output_type": "stream",
     "text": [
      "0.46153846153846156\n"
     ]
    },
    {
     "data": {
      "image/png": "[encoded data removed]",
      "text/plain": [
       "<matplotlib.figure.Figure at 0x1521d4bc50>"
      ]
     },
     "metadata": {},
     "output_type": "display_data"
    }
   ],
   "source": [
    "from datasketch import MinHash\n",
    "import matplotlib.pyplot as plt\n",
    "import math\n",
    "import numpy as np\n",
    "\n",
    "with open(\"Min_hash1.txt\", 'rb') as inp:\n",
    "    data1 = inp.read().decode().split(',')\n",
    "with open(\"Min_hash2.txt\", 'rb') as inp:\n",
    "    data2 = inp.read().decode().split(',')\n",
    "    \n",
    "accuracy = []\n",
    "s1 = set(data1)\n",
    "s2 = set(data2)\n",
    "\n",
    "actual_jaccard = float(len(s1.intersection(s2)))/float(len(s1.union(s2)))\n",
    "print(actual_jaccard)\n",
    "\n",
    "\n",
    "# num_pem is number of functions \n",
    "hash_num = [10, 50, 100, 200, 500, 1000, 1500, 2000, 5000]\n",
    "for hash_n in hash_num: \n",
    "    m1, m2 = MinHash(num_perm=hash_n), MinHash(num_perm=hash_n)\n",
    "    for d in data1:\n",
    "        m1.update(d.encode('utf8'))\n",
    "    for d in data2:\n",
    "        m2.update(d.encode('utf8'))\n",
    "    estimated_jaccard = m1.jaccard(m2)\n",
    "    accuracy.append(math.sqrt((actual_jaccard -  estimated_jaccard)* (actual_jaccard -  estimated_jaccard)))\n",
    "plt.plot(hash_num, accuracy)\n",
    "plt.show()\n",
    "\n",
    "\n"
   ]
  },
  {
   "cell_type": "markdown",
   "metadata": {},
   "source": [
    "This graph shows how accuracy decreases when we increase number of hash functions."
   ]
  }
 ],
 "metadata": {
  "kernelspec": {
   "display_name": "Python 3",
   "language": "python",
   "name": "python3"
  },
  "language_info": {
   "codemirror_mode": {
    "name": "ipython",
    "version": 3
   },
   "file_extension": ".py",
   "mimetype": "text/x-python",
   "name": "python",
   "nbconvert_exporter": "python",
   "pygments_lexer": "ipython3",
   "version": "3.6.4"
  }
 },
 "nbformat": 4,
 "nbformat_minor": 2
}
